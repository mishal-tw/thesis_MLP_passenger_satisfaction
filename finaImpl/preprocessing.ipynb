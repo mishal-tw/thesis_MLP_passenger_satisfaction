{
 "cells": [
  {
   "cell_type": "code",
   "execution_count": 1,
   "metadata": {},
   "outputs": [
    {
     "name": "stdout",
     "output_type": "stream",
     "text": [
      "WARNING:tensorflow:\n",
      "The TensorFlow contrib module will not be included in TensorFlow 2.0.\n",
      "For more information, please see:\n",
      "  * https://github.com/tensorflow/community/blob/master/rfcs/20180907-contrib-sunset.md\n",
      "  * https://github.com/tensorflow/addons\n",
      "  * https://github.com/tensorflow/io (for I/O related ops)\n",
      "If you depend on functionality not listed there, please file an issue.\n",
      "\n"
     ]
    }
   ],
   "source": [
    "from sklearn.linear_model import SGDClassifier\n",
    "import numpy as np # linear algebra\n",
    "import pandas as pd # data processing, CSV file I/O (e.g. pd.read_csv)\n",
    "# Visualization Library\n",
    "import matplotlib.pyplot as plt \n",
    "import seaborn as sns\n",
    "from collections import Counter\n",
    "import tensorflow as tf\n",
    "from sklearn.model_selection import train_test_split,StratifiedKFold,GridSearchCV\n",
    "import pdb\n",
    "import tensorflow.contrib.keras as keras\n",
    "from tensorflow.contrib.keras import losses,optimizers,metrics\n",
    "from sklearn.preprocessing import MinMaxScaler\n",
    "from sklearn.metrics import confusion_matrix,classification_report\n",
    "from tensorboard.plugins.hparams import api as hp"
   ]
  },
  {
   "cell_type": "code",
   "execution_count": 2,
   "metadata": {},
   "outputs": [],
   "source": [
    "train_df=pd.read_csv(\"original_data/train.csv\")\n",
    "test_df=pd.read_csv(\"original_data/test.csv\")"
   ]
  },
  {
   "cell_type": "code",
   "execution_count": 3,
   "metadata": {},
   "outputs": [],
   "source": [
    "\n",
    "\n",
    "train_df = train_df.drop(['Unnamed: 0', 'id'], axis=1)\n",
    "test_df = test_df.drop(['Unnamed: 0', 'id'], axis=1)\n",
    "\n",
    "train_df.columns=[each.replace(\" \",\"_\") for each in train_df.columns]\n",
    "test_df.columns=[each.replace(\" \",\"_\") for each in train_df.columns]\n",
    "\n",
    "##Feature engineering\n",
    "train_df=pd.get_dummies(train_df,columns=[\"Customer_Type\"])\n",
    "train_df=pd.get_dummies(train_df,columns=[\"Type_of_Travel\"])\n",
    "train_df=pd.get_dummies(train_df,columns=[\"Class\"])\n",
    "train_df=pd.get_dummies(train_df,columns=[\"Gender\"])\n",
    "\n",
    "test_df=pd.get_dummies(test_df,columns=[\"Customer_Type\"])\n",
    "test_df=pd.get_dummies(test_df,columns=[\"Type_of_Travel\"])\n",
    "test_df=pd.get_dummies(test_df,columns=[\"Class\"])\n",
    "test_df=pd.get_dummies(test_df,columns=[\"Gender\"])\n",
    "\n",
    "\n",
    "training_data = np.asarray(train_df)\n",
    "training_count = len(training_data[:,0])\n",
    "\n",
    "testing_data = np.asarray(test_df)\n",
    "testing_count = len(testing_data[:,0])"
   ]
  },
  {
   "cell_type": "code",
   "execution_count": 4,
   "metadata": {},
   "outputs": [],
   "source": [
    "def outlierIdentifier(dataFrame,columns):\n",
    "    outlier_indices=[]\n",
    "    \n",
    "    for f in columns:\n",
    "        \n",
    "        Quartile1 = np.percentile(dataFrame[f],25)\n",
    "        Quartile3 = np.percentile(dataFrame[f],75)\n",
    "        interquartile_range = Quartile3-Quartile1\n",
    "        outlier_step= interquartile_range * 1.5\n",
    "        outlier_list_col = dataFrame[(dataFrame[f]< Quartile1 - outlier_step)|( dataFrame[f] > Quartile3 + outlier_step)].index\n",
    "        outlier_indices.extend(outlier_list_col)\n",
    "    \n",
    "    outliers_indices = Counter(outlier_indices)\n",
    "    multiple_outliers = list(i for i , v in outliers_indices.items() if v>2 )\n",
    "    return multiple_outliers"
   ]
  },
  {
   "cell_type": "code",
   "execution_count": 5,
   "metadata": {},
   "outputs": [],
   "source": [
    "# remove outliers\n",
    "train_df = train_df.drop(outlierIdentifier(train_df,[ 'Age', 'Flight_Distance', 'Inflight_wifi_service',\n",
    "       'Departure/Arrival_time_convenient', 'Ease_of_Online_booking',\n",
    "       'Gate_location', 'Food_and_drink', 'Online_boarding', 'Seat_comfort',\n",
    "       'Inflight_entertainment', 'On-board_service', 'Leg_room_service',\n",
    "       'Baggage_handling', 'Checkin_service', 'Inflight_service',\n",
    "       'Cleanliness', 'Departure_Delay_in_Minutes',\n",
    "       'Arrival_Delay_in_Minutes']),axis = 0).reset_index(drop = True)"
   ]
  },
  {
   "cell_type": "code",
   "execution_count": 6,
   "metadata": {},
   "outputs": [
    {
     "data": {
      "text/plain": [
       "Age                                  False\n",
       "Flight_Distance                      False\n",
       "Inflight_wifi_service                False\n",
       "Departure/Arrival_time_convenient    False\n",
       "Ease_of_Online_booking               False\n",
       "Gate_location                        False\n",
       "Food_and_drink                       False\n",
       "Online_boarding                      False\n",
       "Seat_comfort                         False\n",
       "Inflight_entertainment               False\n",
       "On-board_service                     False\n",
       "Leg_room_service                     False\n",
       "Baggage_handling                     False\n",
       "Checkin_service                      False\n",
       "Inflight_service                     False\n",
       "Cleanliness                          False\n",
       "Departure_Delay_in_Minutes           False\n",
       "Arrival_Delay_in_Minutes              True\n",
       "satisfaction                         False\n",
       "Customer_Type_Loyal Customer         False\n",
       "Customer_Type_disloyal Customer      False\n",
       "Type_of_Travel_Business travel       False\n",
       "Type_of_Travel_Personal Travel       False\n",
       "Class_Business                       False\n",
       "Class_Eco                            False\n",
       "Class_Eco Plus                       False\n",
       "Gender_Female                        False\n",
       "Gender_Male                          False\n",
       "dtype: bool"
      ]
     },
     "execution_count": 6,
     "metadata": {},
     "output_type": "execute_result"
    }
   ],
   "source": [
    "train_df.isna().any()"
   ]
  },
  {
   "cell_type": "code",
   "execution_count": 9,
   "metadata": {},
   "outputs": [
    {
     "data": {
      "text/plain": [
       "Age                                  False\n",
       "Flight_Distance                      False\n",
       "Inflight_wifi_service                False\n",
       "Departure/Arrival_time_convenient    False\n",
       "Ease_of_Online_booking               False\n",
       "Gate_location                        False\n",
       "Food_and_drink                       False\n",
       "Online_boarding                      False\n",
       "Seat_comfort                         False\n",
       "Inflight_entertainment               False\n",
       "On-board_service                     False\n",
       "Leg_room_service                     False\n",
       "Baggage_handling                     False\n",
       "Checkin_service                      False\n",
       "Inflight_service                     False\n",
       "Cleanliness                          False\n",
       "Departure_Delay_in_Minutes           False\n",
       "Arrival_Delay_in_Minutes              True\n",
       "satisfaction                         False\n",
       "Customer_Type_Loyal Customer         False\n",
       "Customer_Type_disloyal Customer      False\n",
       "Type_of_Travel_Business travel       False\n",
       "Type_of_Travel_Personal Travel       False\n",
       "Class_Business                       False\n",
       "Class_Eco                            False\n",
       "Class_Eco Plus                       False\n",
       "Gender_Female                        False\n",
       "Gender_Male                          False\n",
       "dtype: bool"
      ]
     },
     "execution_count": 9,
     "metadata": {},
     "output_type": "execute_result"
    }
   ],
   "source": [
    "test_df.isna().any()"
   ]
  },
  {
   "cell_type": "code",
   "execution_count": 6,
   "metadata": {},
   "outputs": [],
   "source": [
    "train_df_len=len(train_df)\n",
    "train_df= pd.concat([train_df,test_df],axis=0).reset_index(drop=True)\n",
    "\n",
    "train_df[\"Arrival_Delay_in_Minutes\"]=train_df[\"Arrival_Delay_in_Minutes\"].fillna(np.mean(train_df[\"Arrival_Delay_in_Minutes\"]))\n"
   ]
  },
  {
   "cell_type": "code",
   "execution_count": 10,
   "metadata": {},
   "outputs": [
    {
     "data": {
      "text/plain": [
       "Age                                  False\n",
       "Flight_Distance                      False\n",
       "Inflight_wifi_service                False\n",
       "Departure/Arrival_time_convenient    False\n",
       "Ease_of_Online_booking               False\n",
       "Gate_location                        False\n",
       "Food_and_drink                       False\n",
       "Online_boarding                      False\n",
       "Seat_comfort                         False\n",
       "Inflight_entertainment               False\n",
       "On-board_service                     False\n",
       "Leg_room_service                     False\n",
       "Baggage_handling                     False\n",
       "Checkin_service                      False\n",
       "Inflight_service                     False\n",
       "Cleanliness                          False\n",
       "Departure_Delay_in_Minutes           False\n",
       "Arrival_Delay_in_Minutes              True\n",
       "satisfaction                         False\n",
       "Customer_Type_Loyal Customer         False\n",
       "Customer_Type_disloyal Customer      False\n",
       "Type_of_Travel_Business travel       False\n",
       "Type_of_Travel_Personal Travel       False\n",
       "Class_Business                       False\n",
       "Class_Eco                            False\n",
       "Class_Eco Plus                       False\n",
       "Gender_Female                        False\n",
       "Gender_Male                          False\n",
       "dtype: bool"
      ]
     },
     "execution_count": 10,
     "metadata": {},
     "output_type": "execute_result"
    }
   ],
   "source": [
    "train_df.isna().any()"
   ]
  },
  {
   "cell_type": "code",
   "execution_count": 7,
   "metadata": {},
   "outputs": [
    {
     "name": "stderr",
     "output_type": "stream",
     "text": [
      "C:\\ProgramData\\Anaconda3\\lib\\site-packages\\pandas\\core\\frame.py:3997: SettingWithCopyWarning: \n",
      "A value is trying to be set on a copy of a slice from a DataFrame\n",
      "\n",
      "See the caveats in the documentation: https://pandas.pydata.org/pandas-docs/stable/user_guide/indexing.html#returning-a-view-versus-a-copy\n",
      "  errors=errors,\n"
     ]
    },
    {
     "name": "stdout",
     "output_type": "stream",
     "text": [
      "X_train 103864\n",
      "X_test 25976\n",
      "y_train 103864\n",
      "y_test 25976\n"
     ]
    }
   ],
   "source": [
    "X_test=train_df[train_df_len:]\n",
    "X_train=train_df[:train_df_len]\n",
    "\n",
    "y_train = X_train.satisfaction\n",
    "y_test = X_test.satisfaction\n",
    "\n",
    "X_train.drop(labels=[\"satisfaction\"],axis=1,inplace=True)\n",
    "X_test.drop(labels=[\"satisfaction\"],axis=1,inplace=True)\n",
    "\n",
    "#Below causes problem when using pd.dummies later\n",
    "#y_train = y_train.eq('satisfied').mul(1)\n",
    "#y_test = y_test.eq('satisfied').mul(1)\n",
    "\n",
    "try:\n",
    "    os.stat('processed_data')\n",
    "except:\n",
    "    os.mkdir('processed_data')  \n",
    "    \n",
    "\n",
    "X_train.to_csv(\"processed_data/X_train.csv\")\n",
    "X_test.to_csv(\"processed_data/X_test.csv\")\n",
    "y_train.to_csv(\"processed_data/y_train.csv\")\n",
    "y_test.to_csv(\"processed_data/y_test.csv\")\n",
    "\n",
    "\n",
    "print(\"X_train\",len(X_train))\n",
    "print(\"X_test\",len(X_test))\n",
    "print(\"y_train\",len(y_train))\n",
    "print(\"y_test\",len(y_test))\n"
   ]
  },
  {
   "cell_type": "code",
   "execution_count": null,
   "metadata": {},
   "outputs": [],
   "source": []
  }
 ],
 "metadata": {
  "kernelspec": {
   "display_name": "Python 3",
   "language": "python",
   "name": "python3"
  },
  "language_info": {
   "codemirror_mode": {
    "name": "ipython",
    "version": 3
   },
   "file_extension": ".py",
   "mimetype": "text/x-python",
   "name": "python",
   "nbconvert_exporter": "python",
   "pygments_lexer": "ipython3",
   "version": "3.7.6"
  }
 },
 "nbformat": 4,
 "nbformat_minor": 4
}
