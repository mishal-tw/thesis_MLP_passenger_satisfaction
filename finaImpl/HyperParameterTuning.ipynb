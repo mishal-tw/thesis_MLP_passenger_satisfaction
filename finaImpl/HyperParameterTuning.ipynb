{
 "cells": [
  {
   "cell_type": "code",
   "execution_count": 1,
   "metadata": {},
   "outputs": [
    {
     "name": "stdout",
     "output_type": "stream",
     "text": [
      "WARNING:tensorflow:\n",
      "The TensorFlow contrib module will not be included in TensorFlow 2.0.\n",
      "For more information, please see:\n",
      "  * https://github.com/tensorflow/community/blob/master/rfcs/20180907-contrib-sunset.md\n",
      "  * https://github.com/tensorflow/addons\n",
      "  * https://github.com/tensorflow/io (for I/O related ops)\n",
      "If you depend on functionality not listed there, please file an issue.\n",
      "\n"
     ]
    }
   ],
   "source": [
    "from sklearn.linear_model import SGDClassifier\n",
    "import numpy as np # linear algebra\n",
    "import pandas as pd # data processing, CSV file I/O (e.g. pd.read_csv)\n",
    "# Visualization Library\n",
    "import matplotlib.pyplot as plt \n",
    "import seaborn as sns\n",
    "from collections import Counter\n",
    "import tensorflow as tf\n",
    "from sklearn.model_selection import train_test_split,StratifiedKFold,GridSearchCV\n",
    "import pdb\n",
    "import tensorflow.contrib.keras as keras\n",
    "from tensorflow.contrib.keras import losses,optimizers,metrics\n",
    "from sklearn.preprocessing import MinMaxScaler\n",
    "from sklearn.metrics import confusion_matrix,classification_report\n",
    "from tensorboard.plugins.hparams import api as hp\n",
    "import os.path"
   ]
  },
  {
   "cell_type": "code",
   "execution_count": 2,
   "metadata": {},
   "outputs": [],
   "source": [
    "X_train=pd.read_csv(\"processed_data/X_train.csv\")\n",
    "X_test=pd.read_csv(\"processed_data/X_test.csv\")\n",
    "y_train=pd.read_csv(\"processed_data/y_train.csv\")\n",
    "y_test=pd.read_csv(\"processed_data/y_test.csv\")\n",
    "\n",
    "try:\n",
    "    os.stat('saved_models')\n",
    "except:\n",
    "    os.mkdir('saved_models')  \n",
    "    "
   ]
  },
  {
   "cell_type": "code",
   "execution_count": 3,
   "metadata": {},
   "outputs": [
    {
     "name": "stdout",
     "output_type": "stream",
     "text": [
      "X_train 103864\n",
      "X_test 25976\n",
      "y_train 103864\n",
      "y_test 25976\n"
     ]
    }
   ],
   "source": [
    "#Temporary for quick testing\n",
    "#tempcount = 10\n",
    "#X_train = X_train[:tempcount]\n",
    "#X_test = X_test[:tempcount]\n",
    "#y_train = y_train[:tempcount]\n",
    "#y_test = y_test[:tempcount]\n",
    "#End of temporary\n",
    "\n",
    "\n",
    "scaler = MinMaxScaler()\n",
    "X_train = X_train.drop(['Unnamed: 0'], axis=1)\n",
    "X_train = scaler.fit_transform(X_train)\n",
    "y_train = pd.get_dummies(y_train).astype(float)\n",
    "y_train = y_train.drop(['Unnamed: 0'], axis=1)\n",
    "\n",
    "X_test = X_test.drop(['Unnamed: 0'], axis=1)\n",
    "X_test = scaler.fit_transform(X_test)\n",
    "y_test = pd.get_dummies(y_test).astype(float)\n",
    "y_test = y_test.drop(['Unnamed: 0'], axis=1)\n",
    "\n",
    "print(\"X_train\",len(X_train))\n",
    "print(\"X_test\",len(X_test))\n",
    "print(\"y_train\",len(y_train))\n",
    "print(\"y_test\",len(y_test))"
   ]
  },
  {
   "cell_type": "code",
   "execution_count": 4,
   "metadata": {},
   "outputs": [],
   "source": [
    "np.random.seed(101)\n",
    "tf.set_random_seed(101)"
   ]
  },
  {
   "cell_type": "code",
   "execution_count": 5,
   "metadata": {},
   "outputs": [],
   "source": [
    "HP_OPTIMIZER = hp.HParam('optimizer', hp.Discrete(['adam', 'sgd']))\n",
    "HP_NUM_UNITS1 = hp.HParam('num_units 1', hp.Discrete([50,100, 150])) \n",
    "HP_NUM_UNITS2 = hp.HParam('num_units 2', hp.Discrete([50,100, 150]))\n",
    "METRIC_ACCURACY = 'accuracy'\n"
   ]
  },
  {
   "cell_type": "code",
   "execution_count": 6,
   "metadata": {},
   "outputs": [],
   "source": [
    "def train_test_model(run_dir, hparams, identifier):\n",
    "  model = tf.keras.Sequential([\n",
    "    keras.layers.Dense(len(X_train), input_dim=27, activation='relu'),\n",
    "    keras.layers.Dense(hparams[HP_NUM_UNITS1], activation='relu'),\n",
    "    keras.layers.Dense(hparams[HP_NUM_UNITS2], activation='relu'),\n",
    "    keras.layers.Dense(2, activation='softmax')\n",
    "  ])\n",
    "\n",
    "  model.compile(optimizer=hparams[HP_OPTIMIZER],\n",
    "                loss='binary_crossentropy',\n",
    "                metrics=['accuracy'])\n",
    "    \n",
    "  tensorboard_callback = keras.callbacks.TensorBoard(log_dir=run_dir)\n",
    "\n",
    "  training_history = model.fit(X_train,y_train, epochs=50, callbacks=[tensorboard_callback])\n",
    "    \n",
    "  model.save('saved_models/'+identifier+'.h5')\n",
    "\n",
    "  metrics = model.evaluate(X_test, y_test)\n",
    "  return metrics"
   ]
  },
  {
   "cell_type": "code",
   "execution_count": 7,
   "metadata": {},
   "outputs": [],
   "source": [
    "def run(run_dir, hparams, identifier):\n",
    "  with tf.summary.FileWriter(run_dir) as writer:\n",
    "    hp.hparams(hparams)  # record the values used in this trial\n",
    "    metrics = train_test_model(run_dir, hparams, identifier)\n",
    "\n",
    "    \n",
    "    tf.summary.scalar(METRIC_ACCURACY, metrics)\n",
    "    writer.flush()\n",
    "    return metrics"
   ]
  },
  {
   "cell_type": "code",
   "execution_count": 8,
   "metadata": {},
   "outputs": [],
   "source": [
    "\n",
    "hparam_df = pd.DataFrame(columns = ['identifier','num_units1', 'num_units2', 'optimizer', 'loss', 'accuracy'])\n",
    "\n",
    "if os.path.isfile(\"hparam.csv\"):\n",
    "    hparam_df=pd.read_csv(\"hparam.csv\")\n",
    "else:\n",
    "    hparam_df.to_csv(\"hparam.csv\")\n",
    "\n",
    "for num_units1 in HP_NUM_UNITS1.domain.values:\n",
    "  for num_units2 in HP_NUM_UNITS2.domain.values:\n",
    "    for optimizer in HP_OPTIMIZER.domain.values:\n",
    "        \n",
    "        identifier = str(num_units1)+\"_\"+str(num_units2)+\"_\"+optimizer;\n",
    "        \n",
    "        if os.path.isfile('saved_models/'+identifier+'.h5') and hparam_df['identifier'].str.contains(identifier).any() and os.path.isdir('logs/hparam_tuning/'+identifier+'/train/'):\n",
    "            continue\n",
    "          \n",
    "        hparams = {\n",
    "        HP_NUM_UNITS1: num_units1,\n",
    "        HP_NUM_UNITS2: num_units2,\n",
    "        HP_OPTIMIZER: optimizer\n",
    "        }\n",
    "        \n",
    "        print('--- Starting trial: %s' % identifier)\n",
    "        print({h.name: hparams[h] for h in hparams})\n",
    "        metrics = run('logs/hparam_tuning/' + identifier, hparams, identifier)\n",
    "        \n",
    "        hp_append = {'identifier' : identifier,'num_units1': num_units1, 'num_units2': num_units2, 'optimizer': optimizer, 'loss':metrics[0], 'accuracy':metrics[1]}\n",
    "        hparam_df = hparam_df.append(hp_append, ignore_index = True)\n",
    "        hparam_df.to_csv(\"hparam.csv\")\n",
    "        \n"
   ]
  },
  {
   "cell_type": "code",
   "execution_count": 38,
   "metadata": {},
   "outputs": [],
   "source": [
    "\n",
    "combined_X = np.concatenate((X_train, X_test))\n",
    "combined_y = np.concatenate((y_train, y_test))\n"
   ]
  },
  {
   "cell_type": "code",
   "execution_count": 41,
   "metadata": {
    "scrolled": false
   },
   "outputs": [
    {
     "name": "stdout",
     "output_type": "stream",
     "text": [
      "Train on 103864 samples, validate on 25976 samples\n",
      "Epoch 1/50\n",
      "103864/103864 [==============================] - 26s 252us/sample - loss: 0.0767 - acc: 0.9658 - val_loss: 0.1038 - val_acc: 0.9596\n",
      "Epoch 2/50\n",
      "103864/103864 [==============================] - 26s 250us/sample - loss: 0.0770 - acc: 0.9660 - val_loss: 0.1846 - val_acc: 0.9427\n",
      "Epoch 3/50\n",
      "103864/103864 [==============================] - 25s 245us/sample - loss: 0.0770 - acc: 0.9659 - val_loss: 0.1074 - val_acc: 0.9589\n",
      "Epoch 4/50\n",
      "103864/103864 [==============================] - 25s 242us/sample - loss: 0.0767 - acc: 0.9660 - val_loss: 0.1083 - val_acc: 0.9593\n",
      "Epoch 5/50\n",
      "103864/103864 [==============================] - 25s 241us/sample - loss: 0.0767 - acc: 0.9658 - val_loss: 0.1462 - val_acc: 0.9536\n",
      "Epoch 6/50\n",
      "103864/103864 [==============================] - 26s 246us/sample - loss: 0.0760 - acc: 0.9664 - val_loss: 0.1328 - val_acc: 0.9557\n",
      "Epoch 7/50\n",
      "103864/103864 [==============================] - 25s 245us/sample - loss: 0.0758 - acc: 0.9668 - val_loss: 0.1138 - val_acc: 0.9579\n",
      "Epoch 8/50\n",
      "103864/103864 [==============================] - 25s 244us/sample - loss: 0.0762 - acc: 0.9664 - val_loss: 0.1186 - val_acc: 0.9577\n",
      "Epoch 9/50\n",
      "103864/103864 [==============================] - 25s 244us/sample - loss: 0.0760 - acc: 0.9667 - val_loss: 0.1317 - val_acc: 0.9554\n",
      "Epoch 10/50\n",
      "103864/103864 [==============================] - 25s 243us/sample - loss: 0.0751 - acc: 0.9666 - val_loss: 0.1317 - val_acc: 0.9557\n",
      "Epoch 11/50\n",
      "103864/103864 [==============================] - 25s 244us/sample - loss: 0.0751 - acc: 0.9668 - val_loss: 0.1251 - val_acc: 0.9543\n",
      "Epoch 12/50\n",
      "103864/103864 [==============================] - 25s 244us/sample - loss: 0.0748 - acc: 0.9669 - val_loss: 0.1186 - val_acc: 0.9578\n",
      "Epoch 13/50\n",
      "103864/103864 [==============================] - 25s 244us/sample - loss: 0.0747 - acc: 0.9666 - val_loss: 0.0993 - val_acc: 0.9614\n",
      "Epoch 14/50\n",
      "103864/103864 [==============================] - 25s 244us/sample - loss: 0.0743 - acc: 0.9674 - val_loss: 0.1633 - val_acc: 0.9469\n",
      "Epoch 15/50\n",
      "103864/103864 [==============================] - 25s 243us/sample - loss: 0.0737 - acc: 0.9672 - val_loss: 0.1046 - val_acc: 0.9607\n",
      "Epoch 16/50\n",
      "103864/103864 [==============================] - 25s 243us/sample - loss: 0.0738 - acc: 0.9674 - val_loss: 0.1168 - val_acc: 0.9592\n",
      "Epoch 17/50\n",
      "103864/103864 [==============================] - 25s 243us/sample - loss: 0.0742 - acc: 0.9671 - val_loss: 0.1063 - val_acc: 0.9607\n",
      "Epoch 18/50\n",
      "103864/103864 [==============================] - 25s 243us/sample - loss: 0.0740 - acc: 0.9677 - val_loss: 0.1087 - val_acc: 0.9596\n",
      "Epoch 19/50\n",
      "103864/103864 [==============================] - 26s 246us/sample - loss: 0.0732 - acc: 0.9676 - val_loss: 0.1056 - val_acc: 0.9592\n",
      "Epoch 20/50\n",
      "103864/103864 [==============================] - 25s 244us/sample - loss: 0.0733 - acc: 0.9675 - val_loss: 0.1782 - val_acc: 0.9471\n",
      "Epoch 21/50\n",
      "103864/103864 [==============================] - 25s 245us/sample - loss: 0.0736 - acc: 0.9672 - val_loss: 0.1181 - val_acc: 0.9583\n",
      "Epoch 22/50\n",
      "103864/103864 [==============================] - 25s 244us/sample - loss: 0.0725 - acc: 0.9680 - val_loss: 0.1098 - val_acc: 0.9590\n",
      "Epoch 23/50\n",
      "103864/103864 [==============================] - 25s 245us/sample - loss: 0.0732 - acc: 0.9675 - val_loss: 0.1123 - val_acc: 0.9600\n",
      "Epoch 24/50\n",
      "103864/103864 [==============================] - 25s 244us/sample - loss: 0.0720 - acc: 0.9683 - val_loss: 0.1274 - val_acc: 0.9562\n",
      "Epoch 25/50\n",
      "103864/103864 [==============================] - 25s 244us/sample - loss: 0.0720 - acc: 0.9682 - val_loss: 0.1321 - val_acc: 0.9553\n",
      "Epoch 26/50\n",
      "103864/103864 [==============================] - 26s 253us/sample - loss: 0.0716 - acc: 0.9684 - val_loss: 0.1738 - val_acc: 0.9487\n",
      "Epoch 27/50\n",
      "103864/103864 [==============================] - 26s 252us/sample - loss: 0.0724 - acc: 0.9682 - val_loss: 0.1052 - val_acc: 0.9596\n",
      "Epoch 28/50\n",
      "103864/103864 [==============================] - 26s 250us/sample - loss: 0.0717 - acc: 0.9687 - val_loss: 0.1171 - val_acc: 0.9595\n",
      "Epoch 29/50\n",
      "103864/103864 [==============================] - 26s 250us/sample - loss: 0.0710 - acc: 0.9683 - val_loss: 0.1055 - val_acc: 0.9618\n",
      "Epoch 30/50\n",
      "103864/103864 [==============================] - 26s 250us/sample - loss: 0.0713 - acc: 0.9681 - val_loss: 0.1127 - val_acc: 0.9593\n",
      "Epoch 31/50\n",
      "103864/103864 [==============================] - 26s 250us/sample - loss: 0.0712 - acc: 0.9685 - val_loss: 0.1423 - val_acc: 0.9570\n",
      "Epoch 32/50\n",
      "103864/103864 [==============================] - 26s 248us/sample - loss: 0.0709 - acc: 0.9685 - val_loss: 0.1258 - val_acc: 0.9587\n",
      "Epoch 33/50\n",
      "103864/103864 [==============================] - 26s 246us/sample - loss: 0.0710 - acc: 0.9682 - val_loss: 0.1490 - val_acc: 0.9557\n",
      "Epoch 34/50\n",
      "103864/103864 [==============================] - 26s 247us/sample - loss: 0.0708 - acc: 0.9688 - val_loss: 0.1686 - val_acc: 0.9517\n",
      "Epoch 35/50\n",
      "103864/103864 [==============================] - 25s 244us/sample - loss: 0.0706 - acc: 0.9686 - val_loss: 0.1199 - val_acc: 0.9584\n",
      "Epoch 36/50\n",
      "103864/103864 [==============================] - 25s 243us/sample - loss: 0.0706 - acc: 0.9690 - val_loss: 0.1161 - val_acc: 0.9583\n",
      "Epoch 37/50\n",
      "103864/103864 [==============================] - 26s 246us/sample - loss: 0.0700 - acc: 0.9686 - val_loss: 0.1315 - val_acc: 0.9580\n",
      "Epoch 38/50\n",
      "103864/103864 [==============================] - 25s 244us/sample - loss: 0.0687 - acc: 0.9693 - val_loss: 0.1230 - val_acc: 0.9603\n",
      "Epoch 39/50\n",
      "103864/103864 [==============================] - 25s 244us/sample - loss: 0.0697 - acc: 0.9691 - val_loss: 0.1764 - val_acc: 0.9471\n",
      "Epoch 40/50\n",
      "103864/103864 [==============================] - 25s 245us/sample - loss: 0.0690 - acc: 0.9688 - val_loss: 0.1349 - val_acc: 0.9572\n",
      "Epoch 41/50\n",
      "103864/103864 [==============================] - 25s 244us/sample - loss: 0.0695 - acc: 0.9694 - val_loss: 0.1416 - val_acc: 0.9556\n",
      "Epoch 42/50\n",
      "103864/103864 [==============================] - 26s 246us/sample - loss: 0.0691 - acc: 0.9695 - val_loss: 0.1333 - val_acc: 0.9572\n",
      "Epoch 43/50\n",
      "103864/103864 [==============================] - 25s 242us/sample - loss: 0.0691 - acc: 0.9696 - val_loss: 0.1786 - val_acc: 0.9500\n",
      "Epoch 44/50\n",
      "103864/103864 [==============================] - 25s 244us/sample - loss: 0.0690 - acc: 0.9692 - val_loss: 0.1164 - val_acc: 0.9607\n",
      "Epoch 45/50\n",
      "103864/103864 [==============================] - 25s 242us/sample - loss: 0.0688 - acc: 0.9696 - val_loss: 0.1242 - val_acc: 0.9588\n",
      "Epoch 46/50\n",
      "103864/103864 [==============================] - 25s 244us/sample - loss: 0.0690 - acc: 0.9694 - val_loss: 0.1384 - val_acc: 0.9573\n",
      "Epoch 47/50\n",
      "103864/103864 [==============================] - 25s 241us/sample - loss: 0.0683 - acc: 0.9699 - val_loss: 0.1521 - val_acc: 0.9517\n",
      "Epoch 48/50\n",
      "103864/103864 [==============================] - 25s 242us/sample - loss: 0.0682 - acc: 0.9700 - val_loss: 0.1241 - val_acc: 0.9596\n",
      "Epoch 49/50\n",
      "103864/103864 [==============================] - 25s 243us/sample - loss: 0.0676 - acc: 0.9696 - val_loss: 0.1196 - val_acc: 0.9597\n",
      "Epoch 50/50\n",
      "103864/103864 [==============================] - 25s 245us/sample - loss: 0.0687 - acc: 0.9697 - val_loss: 0.1351 - val_acc: 0.9576\n"
     ]
    }
   ],
   "source": [
    "final_mlp_model = tf.keras.models.load_model('saved_models/50_50_adam.h5')\n",
    "history = final_mlp_model.fit(combined_X,combined_y, epochs=50, validation_split=0.200061,)"
   ]
  },
  {
   "cell_type": "code",
   "execution_count": 44,
   "metadata": {},
   "outputs": [
    {
     "data": {
      "image/png": "[encoded data removed]",
      "text/plain": [
       "<Figure size 432x288 with 1 Axes>"
      ]
     },
     "metadata": {
      "needs_background": "light"
     },
     "output_type": "display_data"
    },
    {
     "data": {
      "image/png": "[encoded data removed]",
      "text/plain": [
       "<Figure size 432x288 with 1 Axes>"
      ]
     },
     "metadata": {
      "needs_background": "light"
     },
     "output_type": "display_data"
    }
   ],
   "source": [
    "plt.plot(history.history['acc'])\n",
    "plt.plot(history.history['val_acc'])\n",
    "plt.title('model accuracy')\n",
    "plt.ylabel('accuracy')\n",
    "plt.xlabel('epoch')\n",
    "plt.legend(['train', 'test'], loc='upper left')\n",
    "plt.show()\n",
    "\n",
    "plt.plot(history.history['loss'])\n",
    "plt.plot(history.history['val_loss'])\n",
    "plt.title('model loss')\n",
    "plt.ylabel('loss')\n",
    "plt.xlabel('epoch')\n",
    "plt.legend(['train', 'test'], loc='upper left')\n",
    "plt.show()"
   ]
  },
  {
   "cell_type": "code",
   "execution_count": null,
   "metadata": {},
   "outputs": [],
   "source": []
  }
 ],
 "metadata": {
  "kernelspec": {
   "display_name": "Python 3",
   "language": "python",
   "name": "python3"
  },
  "language_info": {
   "codemirror_mode": {
    "name": "ipython",
    "version": 3
   },
   "file_extension": ".py",
   "mimetype": "text/x-python",
   "name": "python",
   "nbconvert_exporter": "python",
   "pygments_lexer": "ipython3",
   "version": "3.7.6"
  }
 },
 "nbformat": 4,
 "nbformat_minor": 4
}
